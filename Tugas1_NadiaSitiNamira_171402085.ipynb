{
 "cells": [
  {
   "cell_type": "code",
   "execution_count": 1,
   "metadata": {},
   "outputs": [
    {
     "name": "stdout",
     "output_type": "stream",
     "text": [
      "Masukkan batasan fibonacci : 5\n",
      "0\n",
      "1\n",
      "1\n",
      "2\n",
      "3\n"
     ]
    }
   ],
   "source": [
    "class Fibonacci:\n",
    "    def fib(n):\n",
    "        x = 0\n",
    "        y = 1\n",
    "        z = 0\n",
    "        if(n <= 0):          #jika n lebih besar atau sama dengan nol maka outputnya Inavlid\n",
    "            print('Gagal')\n",
    "        for i in range(n):   #range() untuk deret integer berurut pada range yang ditentukan sampai berhenti\n",
    "            z = x + y\n",
    "            print(x)\n",
    "            x = y\n",
    "            y = z\n",
    "        \n",
    "    n = int(input('Masukkan batasan fibonacci : '))\n",
    "    fib(n)"
   ]
  },
  {
   "cell_type": "code",
   "execution_count": null,
   "metadata": {},
   "outputs": [],
   "source": []
  }
 ],
 "metadata": {
  "kernelspec": {
   "display_name": "Python 3",
   "language": "python",
   "name": "python3"
  },
  "language_info": {
   "codemirror_mode": {
    "name": "ipython",
    "version": 3
   },
   "file_extension": ".py",
   "mimetype": "text/x-python",
   "name": "python",
   "nbconvert_exporter": "python",
   "pygments_lexer": "ipython3",
   "version": "3.7.2"
  }
 },
 "nbformat": 4,
 "nbformat_minor": 2
}
